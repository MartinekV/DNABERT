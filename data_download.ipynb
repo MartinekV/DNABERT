{
 "cells": [
  {
   "cell_type": "code",
   "execution_count": 1,
   "metadata": {},
   "outputs": [
    {
     "name": "stdout",
     "output_type": "stream",
     "text": [
      "tss_neighborhood2.fa.gz\n",
      "download_tss_neighborhood\n",
      "data/raw_data/tss_neighborhood2.fa.gz\n",
      "<_io.TextIOWrapper name='data/raw_data/tss_neighborhood2.fa.gz' encoding='UTF-8'>\n"
     ]
    }
   ],
   "source": [
    "from utils.data import datasets_list, download_dataset\n",
    "from pathlib import Path\n",
    "# cdna = datasets_list()[0]\n",
    "# folder = download_dataset(cdna, data_root=Path('data'))\n",
    "\n",
    "tss = datasets_list()[3]\n",
    "print(tss)\n",
    "folder = download_dataset(tss, data_root=Path('data'))"
   ]
  },
  {
   "cell_type": "code",
   "execution_count": 2,
   "metadata": {},
   "outputs": [
    {
     "data": {
      "text/plain": [
       "PosixPath('data/tss_neighborhood2_fa_gz')"
      ]
     },
     "execution_count": 2,
     "metadata": {},
     "output_type": "execute_result"
    }
   ],
   "source": [
    "folder"
   ]
  },
  {
   "cell_type": "code",
   "execution_count": 3,
   "metadata": {},
   "outputs": [],
   "source": [
    "# rke = datasets_list()[2]\n",
    "# download_dataset(rke, data_root=Path('data'))\n"
   ]
  }
 ],
 "metadata": {
  "interpreter": {
   "hash": "c1c29164ab3a44d478c2271baad9bbc0e9c009e20189f557bbc369ebc44363ba"
  },
  "kernelspec": {
   "display_name": "Python 3.7.10 64-bit ('base': conda)",
   "language": "python",
   "name": "python3"
  },
  "language_info": {
   "codemirror_mode": {
    "name": "ipython",
    "version": 3
   },
   "file_extension": ".py",
   "mimetype": "text/x-python",
   "name": "python",
   "nbconvert_exporter": "python",
   "pygments_lexer": "ipython3",
   "version": "3.7.12"
  },
  "orig_nbformat": 2
 },
 "nbformat": 4,
 "nbformat_minor": 2
}
