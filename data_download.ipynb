{
 "cells": [
  {
   "cell_type": "code",
   "execution_count": 1,
   "metadata": {},
   "outputs": [],
   "source": [
    "from utils.data import datasets_list, download_dataset\n",
    "from pathlib import Path\n",
    "cdna = datasets_list()[0]\n",
    "folder = download_dataset(cdna, data_root=Path('data'))"
   ]
  },
  {
   "cell_type": "code",
   "execution_count": 2,
   "metadata": {},
   "outputs": [
    {
     "data": {
      "text/plain": [
       "PosixPath('data/Homo_sapiens_GRCh38_cdna_abinitio_fa_gz')"
      ]
     },
     "execution_count": 2,
     "metadata": {},
     "output_type": "execute_result"
    }
   ],
   "source": [
    "folder"
   ]
  },
  {
   "cell_type": "code",
   "execution_count": 5,
   "metadata": {},
   "outputs": [
    {
     "data": {
      "text/plain": [
       "[PosixPath('data/DeepRKE/10_ELAVL1A_hg19_CLIP'),\n",
       " PosixPath('data/DeepRKE/11_ELAVL1_hg19_CLIP'),\n",
       " PosixPath('data/DeepRKE/12_EWSR1_hg19_CLIP'),\n",
       " PosixPath('data/DeepRKE/13_FUS_hg19_CLIP'),\n",
       " PosixPath('data/DeepRKE/14_FUS_mut_hg19_CLIP'),\n",
       " PosixPath('data/DeepRKE/15_IGF2BP123_hg19_CLIP'),\n",
       " PosixPath('data/DeepRKE/16_Hela_iCLIP_all_clusters_CLIP'),\n",
       " PosixPath('data/DeepRKE/17_HNRNPC_hg19_CLIP'),\n",
       " PosixPath('data/DeepRKE/18_ICLIP_hnRNPL_CLIP'),\n",
       " PosixPath('data/DeepRKE/19_ICLIP_hnRNPL_U266_CLIP'),\n",
       " PosixPath('data/DeepRKE/1_PARCLIP_AGO1234_CLIP'),\n",
       " PosixPath('data/DeepRKE/20_ICLIP_hnRNPlike_CLIP'),\n",
       " PosixPath('data/DeepRKE/21_PARCLIP_MOV10_CLIP'),\n",
       " PosixPath('data/DeepRKE/22_ICLIP_NSUN2_CLIP'),\n",
       " PosixPath('data/DeepRKE/23_PARCLIP_PUM2_CLIP'),\n",
       " PosixPath('data/DeepRKE/24_PARCLIP_QKI_CLIP'),\n",
       " PosixPath('data/DeepRKE/25_CLIPSEQ_SFRS1_CLIP'),\n",
       " PosixPath('data/DeepRKE/26_PARCLIP_TAF15_CLIP'),\n",
       " PosixPath('data/DeepRKE/27_ICLIP_TDP43_CLIP'),\n",
       " PosixPath('data/DeepRKE/28_ICLIP_TIA1_CLIP'),\n",
       " PosixPath('data/DeepRKE/29_ICLIP_TIAL1_CLIP'),\n",
       " PosixPath('data/DeepRKE/2_PARCLIP_AGO2MNASE'),\n",
       " PosixPath('data/DeepRKE/30_ICLIP_U2AF65_Hela_CLIP'),\n",
       " PosixPath('data/DeepRKE/31_ICLIP_U2AF65_Hela_CLIP'),\n",
       " PosixPath('data/DeepRKE/3_Ago2_binding_CLIP'),\n",
       " PosixPath('data/DeepRKE/4_Ago2_binding_2_CLIP'),\n",
       " PosixPath('data/DeepRKE/5_AGO2_hg19_CLIP'),\n",
       " PosixPath('data/DeepRKE/6_eIF4AIII_1_CLIP'),\n",
       " PosixPath('data/DeepRKE/7_eIF4AIII_2_CLIP'),\n",
       " PosixPath('data/DeepRKE/8_ELAVL1_hg19_CLIP'),\n",
       " PosixPath('data/DeepRKE/9_ELAVL1MNASE_hg19_CLIP')]"
      ]
     },
     "execution_count": 5,
     "metadata": {},
     "output_type": "execute_result"
    }
   ],
   "source": [
    "# rke = datasets_list()[2]\n",
    "# download_dataset(rke, data_root=Path('data'))\n"
   ]
  }
 ],
 "metadata": {
  "interpreter": {
   "hash": "c1c29164ab3a44d478c2271baad9bbc0e9c009e20189f557bbc369ebc44363ba"
  },
  "kernelspec": {
   "display_name": "Python 3.7.10 64-bit ('base': conda)",
   "language": "python",
   "name": "python3"
  },
  "language_info": {
   "codemirror_mode": {
    "name": "ipython",
    "version": 3
   },
   "file_extension": ".py",
   "mimetype": "text/x-python",
   "name": "python",
   "nbconvert_exporter": "python",
   "pygments_lexer": "ipython3",
   "version": "3.7.12"
  },
  "orig_nbformat": 2
 },
 "nbformat": 4,
 "nbformat_minor": 2
}
